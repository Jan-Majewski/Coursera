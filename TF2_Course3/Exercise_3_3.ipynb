{
  "nbformat": 4,
  "nbformat_minor": 0,
  "metadata": {
    "colab": {
      "name": "NLP Course - Week 3 Exercise Question.ipynb",
      "provenance": []
    },
    "kernelspec": {
      "name": "python3",
      "display_name": "Python 3"
    },
    "accelerator": "GPU"
  },
  "cells": [
    {
      "cell_type": "code",
      "metadata": {
        "id": "hmA6EzkQJ5jt",
        "colab_type": "code",
        "colab": {}
      },
      "source": [
        "import json\n",
        "import tensorflow as tf\n",
        "import csv\n",
        "import random\n",
        "import numpy as np\n",
        "\n",
        "from tensorflow.keras.preprocessing.text import Tokenizer\n",
        "from tensorflow.keras.preprocessing.sequence import pad_sequences\n",
        "from tensorflow.keras.utils import to_categorical\n",
        "from tensorflow.keras import regularizers\n",
        "\n",
        "\n",
        "embedding_dim = 100\n",
        "max_length = 16\n",
        "trunc_type='post'\n",
        "padding_type='post'\n",
        "oov_tok = \"<OOV>\"\n",
        "training_size=160000\n",
        "\n",
        "corpus = []\n"
      ],
      "execution_count": 0,
      "outputs": []
    },
    {
      "cell_type": "code",
      "metadata": {
        "id": "bM0l_dORKqE0",
        "colab_type": "code",
        "outputId": "45e315ae-3af7-4825-ee36-114f2714990a",
        "colab": {
          "base_uri": "https://localhost:8080/",
          "height": 204
        }
      },
      "source": [
        "\n",
        "# Note that I cleaned the Stanford dataset to remove LATIN1 encoding to make it easier for Python CSV reader\n",
        "# You can do that yourself with:\n",
        "# iconv -f LATIN1 -t UTF8 training.1600000.processed.noemoticon.csv -o training_cleaned.csv\n",
        "# I then hosted it on my site to make it easier to use in this notebook\n",
        "\n",
        "!wget --no-check-certificate \\\n",
        "    https://storage.googleapis.com/laurencemoroney-blog.appspot.com/training_cleaned.csv \\\n",
        "    -O /tmp/training_cleaned.csv\n",
        "\n",
        "num_sentences = 0\n",
        "\n",
        "\n",
        "with open(\"/tmp/training_cleaned.csv\") as csvfile:\n",
        "    reader = csv.reader(csvfile, delimiter=',')\n",
        "    for row in reader:\n",
        "        list_item=[]\n",
        "        list_item.append(row[5])\n",
        "        this_label=row[0]\n",
        "        if this_label=='0':\n",
        "            list_item.append(0)\n",
        "        else:\n",
        "            list_item.append(1)\n",
        "        num_sentences = num_sentences + 1\n",
        "        corpus.append(list_item)\n",
        "\n",
        "\n"
      ],
      "execution_count": 35,
      "outputs": [
        {
          "output_type": "stream",
          "text": [
            "--2020-01-07 15:25:11--  https://storage.googleapis.com/laurencemoroney-blog.appspot.com/training_cleaned.csv\n",
            "Resolving storage.googleapis.com (storage.googleapis.com)... 74.125.130.128, 2404:6800:4003:c03::80\n",
            "Connecting to storage.googleapis.com (storage.googleapis.com)|74.125.130.128|:443... connected.\n",
            "HTTP request sent, awaiting response... 200 OK\n",
            "Length: 238942690 (228M) [application/octet-stream]\n",
            "Saving to: ‘/tmp/training_cleaned.csv’\n",
            "\n",
            "/tmp/training_clean 100%[===================>] 227.87M   145MB/s    in 1.6s    \n",
            "\n",
            "2020-01-07 15:25:13 (145 MB/s) - ‘/tmp/training_cleaned.csv’ saved [238942690/238942690]\n",
            "\n"
          ],
          "name": "stdout"
        }
      ]
    },
    {
      "cell_type": "code",
      "metadata": {
        "id": "3kxblBUjEUX-",
        "colab_type": "code",
        "outputId": "a0f9862d-f0cc-4cb8-d5aa-9203f55e512d",
        "colab": {
          "base_uri": "https://localhost:8080/",
          "height": 68
        }
      },
      "source": [
        "print(num_sentences)\n",
        "print(len(corpus))\n",
        "print(corpus[1])\n",
        "\n",
        "# Expected Output:\n",
        "# 1600000\n",
        "# 1600000\n",
        "# [\"is upset that he can't update his Facebook by texting it... and might cry as a result  School today also. Blah!\", 0]"
      ],
      "execution_count": 36,
      "outputs": [
        {
          "output_type": "stream",
          "text": [
            "1600000\n",
            "1600000\n",
            "[\"is upset that he can't update his Facebook by texting it... and might cry as a result  School today also. Blah!\", 0]\n"
          ],
          "name": "stdout"
        }
      ]
    },
    {
      "cell_type": "code",
      "metadata": {
        "id": "hzOKuBzwknMn",
        "colab_type": "code",
        "colab": {
          "base_uri": "https://localhost:8080/",
          "height": 34
        },
        "outputId": "764e8cc7-67bc-4a0a-b316-f93d8593b992"
      },
      "source": [
        "corpus[1][1]"
      ],
      "execution_count": 37,
      "outputs": [
        {
          "output_type": "execute_result",
          "data": {
            "text/plain": [
              "0"
            ]
          },
          "metadata": {
            "tags": []
          },
          "execution_count": 37
        }
      ]
    },
    {
      "cell_type": "code",
      "metadata": {
        "id": "6GrmM8UBkqjq",
        "colab_type": "code",
        "colab": {
          "base_uri": "https://localhost:8080/",
          "height": 34
        },
        "outputId": "2efb4682-d5e9-4286-a1b2-73a3a54490a2"
      },
      "source": [
        "len(corpus[1])"
      ],
      "execution_count": 38,
      "outputs": [
        {
          "output_type": "execute_result",
          "data": {
            "text/plain": [
              "2"
            ]
          },
          "metadata": {
            "tags": []
          },
          "execution_count": 38
        }
      ]
    },
    {
      "cell_type": "code",
      "metadata": {
        "id": "ohOGz24lsNAD",
        "colab_type": "code",
        "colab": {}
      },
      "source": [
        "sentences=[]\n",
        "labels=[]\n",
        "random.shuffle(corpus)\n",
        "for x in range(training_size):\n",
        "    sentences.append(corpus[x][0])\n",
        "    labels.append(corpus[x][1])\n",
        "\n",
        "\n",
        "tokenizer = Tokenizer()\n",
        "tokenizer.fit_on_texts(sentences)\n",
        "\n",
        "word_index = tokenizer.word_index\n",
        "vocab_size=len(word_index)\n",
        "\n",
        "sequences = tokenizer.texts_to_sequences(sentences)\n",
        "padded = pad_sequences(sequences, maxlen=max_length, padding=padding_type, truncating=trunc_type)\n",
        "\n",
        "split = int(test_portion * training_size)\n",
        "\n",
        "test_sequences = padded[0:split]\n",
        "training_sequences = padded[split:training_size]\n",
        "test_labels = labels[0:split]\n",
        "training_labels = labels[split:training_size]"
      ],
      "execution_count": 0,
      "outputs": []
    },
    {
      "cell_type": "code",
      "metadata": {
        "id": "giH8iyZ4l7tl",
        "colab_type": "code",
        "colab": {
          "base_uri": "https://localhost:8080/",
          "height": 34
        },
        "outputId": "bc7090e0-0ecb-414f-b34c-be30cbde6fde"
      },
      "source": [
        "len(training_sequences)\n"
      ],
      "execution_count": 40,
      "outputs": [
        {
          "output_type": "execute_result",
          "data": {
            "text/plain": [
              "144000"
            ]
          },
          "metadata": {
            "tags": []
          },
          "execution_count": 40
        }
      ]
    },
    {
      "cell_type": "code",
      "metadata": {
        "id": "TZzPpXH7mCT7",
        "colab_type": "code",
        "colab": {
          "base_uri": "https://localhost:8080/",
          "height": 34
        },
        "outputId": "61f6d148-5d38-42b6-865d-52d3abf34c03"
      },
      "source": [
        "len(training_labels)"
      ],
      "execution_count": 41,
      "outputs": [
        {
          "output_type": "execute_result",
          "data": {
            "text/plain": [
              "144000"
            ]
          },
          "metadata": {
            "tags": []
          },
          "execution_count": 41
        }
      ]
    },
    {
      "cell_type": "code",
      "metadata": {
        "id": "gIrtRem1En3N",
        "colab_type": "code",
        "outputId": "d953d56f-f56a-4b50-d0c5-d5bbd01dc51a",
        "colab": {
          "base_uri": "https://localhost:8080/",
          "height": 51
        }
      },
      "source": [
        "print(vocab_size)\n",
        "print(word_index['i'])\n",
        "# Expected Output\n",
        "# 138858\n",
        "# 1"
      ],
      "execution_count": 42,
      "outputs": [
        {
          "output_type": "stream",
          "text": [
            "138730\n",
            "1\n"
          ],
          "name": "stdout"
        }
      ]
    },
    {
      "cell_type": "code",
      "metadata": {
        "id": "C1zdgJkusRh0",
        "colab_type": "code",
        "outputId": "311ce783-8037-4979-dea5-7294f45d5f88",
        "colab": {
          "base_uri": "https://localhost:8080/",
          "height": 204
        }
      },
      "source": [
        "# Note this is the 100 dimension version of GloVe from Stanford\n",
        "# I unzipped and hosted it on my site to make this notebook easier\n",
        "!wget --no-check-certificate \\\n",
        "    https://storage.googleapis.com/laurencemoroney-blog.appspot.com/glove.6B.100d.txt \\\n",
        "    -O /tmp/glove.6B.100d.txt\n",
        "embeddings_index = {};\n",
        "with open('/tmp/glove.6B.100d.txt') as f:\n",
        "    for line in f:\n",
        "        values = line.split();\n",
        "        word = values[0];\n",
        "        coefs = np.asarray(values[1:], dtype='float32');\n",
        "        embeddings_index[word] = coefs;\n",
        "\n",
        "embeddings_matrix = np.zeros((vocab_size+1, embedding_dim));\n",
        "for word, i in word_index.items():\n",
        "    embedding_vector = embeddings_index.get(word);\n",
        "    if embedding_vector is not None:\n",
        "        embeddings_matrix[i] = embedding_vector;"
      ],
      "execution_count": 43,
      "outputs": [
        {
          "output_type": "stream",
          "text": [
            "--2020-01-07 15:25:29--  https://storage.googleapis.com/laurencemoroney-blog.appspot.com/glove.6B.100d.txt\n",
            "Resolving storage.googleapis.com (storage.googleapis.com)... 172.217.194.128, 2404:6800:4003:c02::80\n",
            "Connecting to storage.googleapis.com (storage.googleapis.com)|172.217.194.128|:443... connected.\n",
            "HTTP request sent, awaiting response... 200 OK\n",
            "Length: 347116733 (331M) [text/plain]\n",
            "Saving to: ‘/tmp/glove.6B.100d.txt’\n",
            "\n",
            "/tmp/glove.6B.100d. 100%[===================>] 331.04M  77.0MB/s    in 4.3s    \n",
            "\n",
            "2020-01-07 15:25:33 (77.0 MB/s) - ‘/tmp/glove.6B.100d.txt’ saved [347116733/347116733]\n",
            "\n"
          ],
          "name": "stdout"
        }
      ]
    },
    {
      "cell_type": "code",
      "metadata": {
        "id": "71NLk_lpFLNt",
        "colab_type": "code",
        "outputId": "10e581be-214c-4213-9b54-c5f73f2dc265",
        "colab": {
          "base_uri": "https://localhost:8080/",
          "height": 34
        }
      },
      "source": [
        "print(len(embeddings_matrix))\n",
        "# Expected Output\n",
        "# 138859"
      ],
      "execution_count": 44,
      "outputs": [
        {
          "output_type": "stream",
          "text": [
            "138731\n"
          ],
          "name": "stdout"
        }
      ]
    },
    {
      "cell_type": "code",
      "metadata": {
        "colab_type": "code",
        "id": "iKKvbuEBOGFz",
        "colab": {
          "base_uri": "https://localhost:8080/",
          "height": 357
        },
        "outputId": "d2e1039a-6110-42f4-f0b7-2469e2e9eaf3"
      },
      "source": [
        "model = tf.keras.Sequential([\n",
        "    tf.keras.layers.Embedding(vocab_size+1, embedding_dim, input_length=max_length, weights=[embeddings_matrix], trainable=False),\n",
        "    tf.keras.layers.Dropout(0.2),\n",
        "    tf.keras.layers.Conv1D(64, 5, activation='relu'),\n",
        "    tf.keras.layers.MaxPooling1D(pool_size=4),\n",
        "    tf.keras.layers.LSTM(64),\n",
        "    tf.keras.layers.Dense(1, activation='sigmoid')\n",
        "])\n",
        "model.compile(loss='binary_crossentropy',optimizer='adam',metrics=['accuracy'])\n",
        "model.summary()\n"
      ],
      "execution_count": 45,
      "outputs": [
        {
          "output_type": "stream",
          "text": [
            "Model: \"sequential_1\"\n",
            "_________________________________________________________________\n",
            "Layer (type)                 Output Shape              Param #   \n",
            "=================================================================\n",
            "embedding_1 (Embedding)      (None, 16, 100)           13873100  \n",
            "_________________________________________________________________\n",
            "dropout_1 (Dropout)          (None, 16, 100)           0         \n",
            "_________________________________________________________________\n",
            "conv1d_1 (Conv1D)            (None, 12, 64)            32064     \n",
            "_________________________________________________________________\n",
            "max_pooling1d_1 (MaxPooling1 (None, 3, 64)             0         \n",
            "_________________________________________________________________\n",
            "lstm_1 (LSTM)                (None, 64)                33024     \n",
            "_________________________________________________________________\n",
            "dense_1 (Dense)              (None, 1)                 65        \n",
            "=================================================================\n",
            "Total params: 13,938,253\n",
            "Trainable params: 65,153\n",
            "Non-trainable params: 13,873,100\n",
            "_________________________________________________________________\n"
          ],
          "name": "stdout"
        }
      ]
    },
    {
      "cell_type": "code",
      "metadata": {
        "id": "7TkrMQh7mM_R",
        "colab_type": "code",
        "colab": {
          "base_uri": "https://localhost:8080/",
          "height": 1000
        },
        "outputId": "e318b702-f01a-4589-9177-6ceb0e7234d4"
      },
      "source": [
        "\n",
        "num_epochs = 50\n",
        "history = model.fit(training_sequences, training_labels, epochs=num_epochs, validation_data=(test_sequences, test_labels), verbose=2)\n",
        "\n",
        "print(\"Training Complete\")\n"
      ],
      "execution_count": 46,
      "outputs": [
        {
          "output_type": "stream",
          "text": [
            "Train on 144000 samples, validate on 16000 samples\n",
            "Epoch 1/50\n",
            "144000/144000 - 30s - loss: 0.5679 - acc: 0.6984 - val_loss: 0.5249 - val_acc: 0.7325\n",
            "Epoch 2/50\n",
            "144000/144000 - 30s - loss: 0.5271 - acc: 0.7321 - val_loss: 0.5160 - val_acc: 0.7374\n",
            "Epoch 3/50\n",
            "144000/144000 - 30s - loss: 0.5091 - acc: 0.7452 - val_loss: 0.5006 - val_acc: 0.7523\n",
            "Epoch 4/50\n",
            "144000/144000 - 30s - loss: 0.4987 - acc: 0.7523 - val_loss: 0.4984 - val_acc: 0.7544\n",
            "Epoch 5/50\n",
            "144000/144000 - 30s - loss: 0.4900 - acc: 0.7587 - val_loss: 0.4980 - val_acc: 0.7546\n",
            "Epoch 6/50\n",
            "144000/144000 - 30s - loss: 0.4831 - acc: 0.7638 - val_loss: 0.4952 - val_acc: 0.7543\n",
            "Epoch 7/50\n",
            "144000/144000 - 30s - loss: 0.4769 - acc: 0.7659 - val_loss: 0.5034 - val_acc: 0.7531\n",
            "Epoch 8/50\n",
            "144000/144000 - 30s - loss: 0.4731 - acc: 0.7696 - val_loss: 0.4979 - val_acc: 0.7544\n",
            "Epoch 9/50\n",
            "144000/144000 - 30s - loss: 0.4687 - acc: 0.7721 - val_loss: 0.5008 - val_acc: 0.7564\n",
            "Epoch 10/50\n",
            "144000/144000 - 30s - loss: 0.4644 - acc: 0.7738 - val_loss: 0.4965 - val_acc: 0.7558\n",
            "Epoch 11/50\n",
            "144000/144000 - 30s - loss: 0.4626 - acc: 0.7755 - val_loss: 0.4990 - val_acc: 0.7536\n",
            "Epoch 12/50\n",
            "144000/144000 - 30s - loss: 0.4580 - acc: 0.7789 - val_loss: 0.4990 - val_acc: 0.7570\n",
            "Epoch 13/50\n",
            "144000/144000 - 30s - loss: 0.4562 - acc: 0.7798 - val_loss: 0.5064 - val_acc: 0.7552\n",
            "Epoch 14/50\n",
            "144000/144000 - 30s - loss: 0.4535 - acc: 0.7811 - val_loss: 0.5115 - val_acc: 0.7543\n",
            "Epoch 15/50\n",
            "144000/144000 - 30s - loss: 0.4517 - acc: 0.7827 - val_loss: 0.5084 - val_acc: 0.7481\n",
            "Epoch 16/50\n",
            "144000/144000 - 30s - loss: 0.4505 - acc: 0.7827 - val_loss: 0.5107 - val_acc: 0.7480\n",
            "Epoch 17/50\n",
            "144000/144000 - 30s - loss: 0.4475 - acc: 0.7844 - val_loss: 0.5100 - val_acc: 0.7504\n",
            "Epoch 18/50\n",
            "144000/144000 - 29s - loss: 0.4490 - acc: 0.7851 - val_loss: 0.5110 - val_acc: 0.7547\n",
            "Epoch 19/50\n",
            "144000/144000 - 30s - loss: 0.4455 - acc: 0.7865 - val_loss: 0.5119 - val_acc: 0.7528\n",
            "Epoch 20/50\n",
            "144000/144000 - 29s - loss: 0.4449 - acc: 0.7862 - val_loss: 0.5108 - val_acc: 0.7529\n",
            "Epoch 21/50\n",
            "144000/144000 - 30s - loss: 0.4427 - acc: 0.7870 - val_loss: 0.5129 - val_acc: 0.7512\n",
            "Epoch 22/50\n",
            "144000/144000 - 30s - loss: 0.4406 - acc: 0.7891 - val_loss: 0.5119 - val_acc: 0.7514\n",
            "Epoch 23/50\n",
            "144000/144000 - 30s - loss: 0.4418 - acc: 0.7877 - val_loss: 0.5107 - val_acc: 0.7506\n",
            "Epoch 24/50\n",
            "144000/144000 - 30s - loss: 0.4391 - acc: 0.7905 - val_loss: 0.5136 - val_acc: 0.7499\n",
            "Epoch 25/50\n",
            "144000/144000 - 29s - loss: 0.4397 - acc: 0.7894 - val_loss: 0.5162 - val_acc: 0.7508\n",
            "Epoch 26/50\n",
            "144000/144000 - 29s - loss: 0.4396 - acc: 0.7901 - val_loss: 0.5170 - val_acc: 0.7479\n",
            "Epoch 27/50\n",
            "144000/144000 - 29s - loss: 0.4383 - acc: 0.7898 - val_loss: 0.5123 - val_acc: 0.7511\n",
            "Epoch 28/50\n",
            "144000/144000 - 29s - loss: 0.4365 - acc: 0.7908 - val_loss: 0.5124 - val_acc: 0.7504\n",
            "Epoch 29/50\n",
            "144000/144000 - 29s - loss: 0.4366 - acc: 0.7917 - val_loss: 0.5164 - val_acc: 0.7474\n",
            "Epoch 30/50\n",
            "144000/144000 - 30s - loss: 0.4360 - acc: 0.7913 - val_loss: 0.5184 - val_acc: 0.7513\n",
            "Epoch 31/50\n",
            "144000/144000 - 30s - loss: 0.4357 - acc: 0.7921 - val_loss: 0.5168 - val_acc: 0.7492\n",
            "Epoch 32/50\n",
            "144000/144000 - 31s - loss: 0.4346 - acc: 0.7915 - val_loss: 0.5191 - val_acc: 0.7486\n",
            "Epoch 33/50\n",
            "144000/144000 - 31s - loss: 0.4348 - acc: 0.7926 - val_loss: 0.5189 - val_acc: 0.7489\n",
            "Epoch 34/50\n",
            "144000/144000 - 31s - loss: 0.4330 - acc: 0.7942 - val_loss: 0.5242 - val_acc: 0.7469\n",
            "Epoch 35/50\n",
            "144000/144000 - 30s - loss: 0.4329 - acc: 0.7929 - val_loss: 0.5191 - val_acc: 0.7488\n",
            "Epoch 36/50\n",
            "144000/144000 - 30s - loss: 0.4337 - acc: 0.7933 - val_loss: 0.5165 - val_acc: 0.7502\n",
            "Epoch 37/50\n",
            "144000/144000 - 30s - loss: 0.4321 - acc: 0.7945 - val_loss: 0.5237 - val_acc: 0.7466\n",
            "Epoch 38/50\n",
            "144000/144000 - 30s - loss: 0.4328 - acc: 0.7944 - val_loss: 0.5208 - val_acc: 0.7499\n",
            "Epoch 39/50\n",
            "144000/144000 - 30s - loss: 0.4330 - acc: 0.7938 - val_loss: 0.5216 - val_acc: 0.7519\n",
            "Epoch 40/50\n",
            "144000/144000 - 30s - loss: 0.4317 - acc: 0.7950 - val_loss: 0.5227 - val_acc: 0.7492\n",
            "Epoch 41/50\n",
            "144000/144000 - 30s - loss: 0.4313 - acc: 0.7950 - val_loss: 0.5154 - val_acc: 0.7496\n",
            "Epoch 42/50\n",
            "144000/144000 - 30s - loss: 0.4310 - acc: 0.7945 - val_loss: 0.5149 - val_acc: 0.7508\n",
            "Epoch 43/50\n",
            "144000/144000 - 30s - loss: 0.4303 - acc: 0.7957 - val_loss: 0.5140 - val_acc: 0.7521\n",
            "Epoch 44/50\n",
            "144000/144000 - 30s - loss: 0.4314 - acc: 0.7955 - val_loss: 0.5165 - val_acc: 0.7519\n",
            "Epoch 45/50\n",
            "144000/144000 - 30s - loss: 0.4290 - acc: 0.7966 - val_loss: 0.5187 - val_acc: 0.7513\n",
            "Epoch 46/50\n",
            "144000/144000 - 30s - loss: 0.4296 - acc: 0.7951 - val_loss: 0.5171 - val_acc: 0.7518\n",
            "Epoch 47/50\n",
            "144000/144000 - 30s - loss: 0.4315 - acc: 0.7951 - val_loss: 0.5173 - val_acc: 0.7504\n",
            "Epoch 48/50\n",
            "144000/144000 - 30s - loss: 0.4289 - acc: 0.7960 - val_loss: 0.5234 - val_acc: 0.7508\n",
            "Epoch 49/50\n",
            "144000/144000 - 30s - loss: 0.4295 - acc: 0.7971 - val_loss: 0.5198 - val_acc: 0.7509\n",
            "Epoch 50/50\n",
            "144000/144000 - 30s - loss: 0.4297 - acc: 0.7962 - val_loss: 0.5192 - val_acc: 0.7461\n",
            "Training Complete\n"
          ],
          "name": "stdout"
        }
      ]
    },
    {
      "cell_type": "code",
      "metadata": {
        "id": "qxju4ItJKO8F",
        "colab_type": "code",
        "colab": {
          "base_uri": "https://localhost:8080/",
          "height": 607
        },
        "outputId": "aa760ce7-3bca-4f75-8a58-7e1dd60c9e99"
      },
      "source": [
        "import matplotlib.image  as mpimg\n",
        "import matplotlib.pyplot as plt\n",
        "\n",
        "#-----------------------------------------------------------\n",
        "# Retrieve a list of list results on training and test data\n",
        "# sets for each training epoch\n",
        "#-----------------------------------------------------------\n",
        "acc=history.history['acc']\n",
        "val_acc=history.history['val_acc']\n",
        "loss=history.history['loss']\n",
        "val_loss=history.history['val_loss']\n",
        "\n",
        "epochs=range(len(acc)) # Get number of epochs\n",
        "\n",
        "#------------------------------------------------\n",
        "# Plot training and validation accuracy per epoch\n",
        "#------------------------------------------------\n",
        "plt.plot(epochs, acc, 'r')\n",
        "plt.plot(epochs, val_acc, 'b')\n",
        "plt.title('Training and validation accuracy')\n",
        "plt.xlabel(\"Epochs\")\n",
        "plt.ylabel(\"Accuracy\")\n",
        "plt.legend([\"Accuracy\", \"Validation Accuracy\"])\n",
        "\n",
        "plt.figure()\n",
        "\n",
        "#------------------------------------------------\n",
        "# Plot training and validation loss per epoch\n",
        "#------------------------------------------------\n",
        "plt.plot(epochs, loss, 'r')\n",
        "plt.plot(epochs, val_loss, 'b')\n",
        "plt.title('Training and validation loss')\n",
        "plt.xlabel(\"Epochs\")\n",
        "plt.ylabel(\"Loss\")\n",
        "plt.legend([\"Loss\", \"Validation Loss\"])\n",
        "\n",
        "plt.figure()\n",
        "\n",
        "\n",
        "# Expected Output\n",
        "# A chart where the validation loss does not increase sharply!"
      ],
      "execution_count": 47,
      "outputs": [
        {
          "output_type": "execute_result",
          "data": {
            "text/plain": [
              "<Figure size 432x288 with 0 Axes>"
            ]
          },
          "metadata": {
            "tags": []
          },
          "execution_count": 47
        },
        {
          "output_type": "display_data",
          "data": {
            "image/png": "[encoded data removed]",
            "text/plain": [
              "<Figure size 432x288 with 1 Axes>"
            ]
          },
          "metadata": {
            "tags": []
          }
        },
        {
          "output_type": "display_data",
          "data": {
            "image/png": "[encoded data removed]",
            "text/plain": [
              "<Figure size 432x288 with 1 Axes>"
            ]
          },
          "metadata": {
            "tags": []
          }
        },
        {
          "output_type": "display_data",
          "data": {
            "text/plain": [
              "<Figure size 432x288 with 0 Axes>"
            ]
          },
          "metadata": {
            "tags": []
          }
        }
      ]
    },
    {
      "cell_type": "code",
      "metadata": {
        "id": "wJLyDXqslpxZ",
        "colab_type": "code",
        "colab": {}
      },
      "source": [
        ""
      ],
      "execution_count": 0,
      "outputs": []
    }
  ]
}